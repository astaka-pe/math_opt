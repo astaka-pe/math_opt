{
 "cells": [
  {
   "cell_type": "code",
   "execution_count": 1,
   "metadata": {},
   "outputs": [
    {
     "name": "stderr",
     "output_type": "stream",
     "text": [
      "/var/folders/f9/wtlgcx3x4k10tkcdwcls97_40000gn/T/ipykernel_60852/2208947901.py:1: DeprecationWarning: Importing display from IPython.core.display is deprecated since IPython 7.14, please import from IPython display\n",
      "  from IPython.core.display import display\n"
     ]
    }
   ],
   "source": [
    "from IPython.core.display import display\n",
    "import numpy as np\n",
    "import pandas as pd\n",
    "import os, sys\n",
    "import matplotlib.pyplot as plt\n",
    "import matplotlib as mpl"
   ]
  },
  {
   "cell_type": "code",
   "execution_count": 2,
   "metadata": {},
   "outputs": [],
   "source": [
    "np.random.seed(10)\n",
    "num_places = 10\n",
    "num_days = 30\n",
    "num_requests = 120\n",
    "\n",
    "mean_travel_time_to_destinations = 100\n",
    "H_regular = 8*60\n",
    "H_max_overtime = 3*60\n",
    "c = 3000//60\n",
    "W = 4000\n",
    "delivery_outsourcing_unit_cost = 4600\n",
    "delivery_time_window = 3\n",
    "avg_weight = 1000"
   ]
  },
  {
   "cell_type": "code",
   "execution_count": 3,
   "metadata": {},
   "outputs": [],
   "source": [
    "K = range(num_places)\n",
    "o = 0\n",
    "K_minus_o = K[1:]\n",
    "_K = np.random.normal(0, mean_travel_time_to_destinations, size=(len(K), 2))\n",
    "_K[o, :] = 0\n",
    "t = np.array([[np.floor(np.linalg.norm(_K[k] - _K[l])) for k in K] for l in K])\n",
    "D = range(num_days)\n",
    "R = range(num_requests)\n",
    "k = np.random.choice(K_minus_o, size=len(R))\n",
    "d_0 = np.random.choice(D, size=len(R))\n",
    "d_1 = d_0 + delivery_time_window - 1\n",
    "w = np.floor(np.random.gamma(10, avg_weight/10, size=len(R)))\n",
    "f = np.ceil(w/100) * delivery_outsourcing_unit_cost"
   ]
  },
  {
   "cell_type": "code",
   "execution_count": 4,
   "metadata": {},
   "outputs": [
    {
     "data": {
      "image/png": "[encoded data removed]",
      "text/plain": [
       "<Figure size 432x288 with 1 Axes>"
      ]
     },
     "metadata": {
      "needs_background": "light"
     },
     "output_type": "display_data"
    }
   ],
   "source": [
    "a = plt.subplot()\n",
    "a.scatter(_K[1:, 0], _K[1:, 1], marker=\"x\")\n",
    "a.scatter(_K[0, 0], _K[0, 1], marker=\"o\")\n",
    "a.set_aspect(\"equal\")\n",
    "plt.show()"
   ]
  },
  {
   "cell_type": "code",
   "execution_count": 5,
   "metadata": {},
   "outputs": [
    {
     "data": {
      "text/plain": [
       "(array([ 0.,  0.,  0.,  0.,  2.,  9.,  7., 11., 14., 12., 22., 14., 14.,\n",
       "         9.,  2.,  1.,  2.,  0.,  1.,  0.]),\n",
       " array([   0.,  100.,  200.,  300.,  400.,  500.,  600.,  700.,  800.,\n",
       "         900., 1000., 1100., 1200., 1300., 1400., 1500., 1600., 1700.,\n",
       "        1800., 1900., 2000.]),\n",
       " <BarContainer object of 20 artists>)"
      ]
     },
     "execution_count": 5,
     "metadata": {},
     "output_type": "execute_result"
    },
    {
     "data": {
      "image/png": "[encoded data removed]",
      "text/plain": [
       "<Figure size 432x288 with 1 Axes>"
      ]
     },
     "metadata": {
      "needs_background": "light"
     },
     "output_type": "display_data"
    }
   ],
   "source": [
    "plt.hist(w, bins=20, range=(0, 2000))"
   ]
  },
  {
   "cell_type": "code",
   "execution_count": 6,
   "metadata": {},
   "outputs": [],
   "source": [
    "import pulp\n",
    "from itertools import product, combinations_with_replacement\n",
    "from joblib import Parallel, delayed\n",
    "\n",
    "def simulate_route(z):\n",
    "    if z[0] == 0:\n",
    "        return None\n",
    "    daily_route_prob = pulp.LpProblem(sense=pulp.LpMinimize)\n",
    "    x = {}\n",
    "    for k, l in product(K, K):\n",
    "        if k != l:\n",
    "            x[k,l] = pulp.LpVariable(f\"x_{k}_{l}\", cat=\"Binary\")\n",
    "        else:\n",
    "            x[k,l] = pulp.LpAffineExpression()   # 0\n",
    "    u = {}\n",
    "    for k in K_minus_o:\n",
    "        u[k] = pulp.LpVariable(f\"u_{k}\", lowBound=1, upBound=len(K)-1)\n",
    "    \n",
    "    h = pulp.LpVariable(\"h\", lowBound=0, cat=\"Continuous\")\n",
    "\n",
    "    for l in K:\n",
    "        daily_route_prob += pulp.lpSum([x[k,l] for k in K]) <= 1\n",
    "    \n",
    "    for l in K:\n",
    "        if z[l] == 1:\n",
    "            daily_route_prob += pulp.lpSum([x[k,l] for k in K]) == 1\n",
    "            daily_route_prob += pulp.lpSum([x[l,k] for k in K]) == 1\n",
    "        else:\n",
    "            daily_route_prob += pulp.lpSum([x[k,l] for k in K]) == 0\n",
    "            daily_route_prob += pulp.lpSum([x[l,l] for k in K]) == 0\n",
    "    \n",
    "    for k, l in product(K_minus_o, K_minus_o):\n",
    "        daily_route_prob += (u[k] + 1 <= u[l] + len(K_minus_o) * (1-x[k,l]))\n",
    "    \n",
    "    travel = pulp.lpSum([t[k, l] * x[k, l] for k, l in product(K, K)])\n",
    "    daily_route_prob += (travel - H_regular <= h)\n",
    "    daily_route_prob += (h <= H_max_overtime)\n",
    "\n",
    "    daily_route_prob += travel\n",
    "    daily_route_prob.solve(pulp.PULP_CBC_CMD(msg=0))\n",
    "\n",
    "    return{\n",
    "        \"z\":z,\n",
    "        \"route\":{\n",
    "            (k,l):x[k,l].value()\n",
    "            for k, l in product(K, K)\n",
    "        },\n",
    "        \"optimal\":daily_route_prob.status==1,\n",
    "        \"移動時間\":travel.value(),\n",
    "        \"残業時間\":h.value(),\n",
    "    }"
   ]
  },
  {
   "cell_type": "code",
   "execution_count": 7,
   "metadata": {},
   "outputs": [],
   "source": [
    "#from joblib import Parallel, delayed\n",
    "def enumerate_routes():\n",
    "    # routes = []\n",
    "    # for z in product([0,1], repeat=len(K)):\n",
    "    #     routes.append(simulate_route(z))\n",
    "\n",
    "    routes = Parallel(n_jobs=16)(\n",
    "        [delayed(simulate_route)(z) for z in product([0,1], repeat=len(K))]\n",
    "    )\n",
    "    \n",
    "    routes = pd.DataFrame(filter(lambda x: x is not None, routes))\n",
    "    routes = routes[routes.optimal].copy()\n",
    "    return routes"
   ]
  },
  {
   "cell_type": "code",
   "execution_count": 8,
   "metadata": {},
   "outputs": [
    {
     "data": {
      "text/html": [
       "<div>\n",
       "<style scoped>\n",
       "    .dataframe tbody tr th:only-of-type {\n",
       "        vertical-align: middle;\n",
       "    }\n",
       "\n",
       "    .dataframe tbody tr th {\n",
       "        vertical-align: top;\n",
       "    }\n",
       "\n",
       "    .dataframe thead th {\n",
       "        text-align: right;\n",
       "    }\n",
       "</style>\n",
       "<table border=\"1\" class=\"dataframe\">\n",
       "  <thead>\n",
       "    <tr style=\"text-align: right;\">\n",
       "      <th></th>\n",
       "      <th>z</th>\n",
       "      <th>route</th>\n",
       "      <th>optimal</th>\n",
       "      <th>移動時間</th>\n",
       "      <th>残業時間</th>\n",
       "    </tr>\n",
       "  </thead>\n",
       "  <tbody>\n",
       "    <tr>\n",
       "      <th>1</th>\n",
       "      <td>(1, 0, 0, 0, 0, 0, 0, 0, 0, 1)</td>\n",
       "      <td>{(0, 0): 0, (0, 1): 0.0, (0, 2): 0.0, (0, 3): ...</td>\n",
       "      <td>True</td>\n",
       "      <td>366.0</td>\n",
       "      <td>0.0</td>\n",
       "    </tr>\n",
       "    <tr>\n",
       "      <th>2</th>\n",
       "      <td>(1, 0, 0, 0, 0, 0, 0, 0, 1, 0)</td>\n",
       "      <td>{(0, 0): 0, (0, 1): 0.0, (0, 2): 0.0, (0, 3): ...</td>\n",
       "      <td>True</td>\n",
       "      <td>228.0</td>\n",
       "      <td>0.0</td>\n",
       "    </tr>\n",
       "    <tr>\n",
       "      <th>3</th>\n",
       "      <td>(1, 0, 0, 0, 0, 0, 0, 0, 1, 1)</td>\n",
       "      <td>{(0, 0): 0, (0, 1): 0.0, (0, 2): 0.0, (0, 3): ...</td>\n",
       "      <td>True</td>\n",
       "      <td>585.0</td>\n",
       "      <td>105.0</td>\n",
       "    </tr>\n",
       "    <tr>\n",
       "      <th>4</th>\n",
       "      <td>(1, 0, 0, 0, 0, 0, 0, 1, 0, 0)</td>\n",
       "      <td>{(0, 0): 0, (0, 1): 0.0, (0, 2): 0.0, (0, 3): ...</td>\n",
       "      <td>True</td>\n",
       "      <td>100.0</td>\n",
       "      <td>0.0</td>\n",
       "    </tr>\n",
       "    <tr>\n",
       "      <th>5</th>\n",
       "      <td>(1, 0, 0, 0, 0, 0, 0, 1, 0, 1)</td>\n",
       "      <td>{(0, 0): 0, (0, 1): 0.0, (0, 2): 0.0, (0, 3): ...</td>\n",
       "      <td>True</td>\n",
       "      <td>430.0</td>\n",
       "      <td>0.0</td>\n",
       "    </tr>\n",
       "    <tr>\n",
       "      <th>...</th>\n",
       "      <td>...</td>\n",
       "      <td>...</td>\n",
       "      <td>...</td>\n",
       "      <td>...</td>\n",
       "      <td>...</td>\n",
       "    </tr>\n",
       "    <tr>\n",
       "      <th>486</th>\n",
       "      <td>(1, 1, 1, 1, 1, 0, 0, 1, 1, 0)</td>\n",
       "      <td>{(0, 0): 0, (0, 1): 1.0, (0, 2): 0.0, (0, 3): ...</td>\n",
       "      <td>True</td>\n",
       "      <td>558.0</td>\n",
       "      <td>78.0</td>\n",
       "    </tr>\n",
       "    <tr>\n",
       "      <th>488</th>\n",
       "      <td>(1, 1, 1, 1, 1, 0, 1, 0, 0, 0)</td>\n",
       "      <td>{(0, 0): 0, (0, 1): 1.0, (0, 2): 0.0, (0, 3): ...</td>\n",
       "      <td>True</td>\n",
       "      <td>614.0</td>\n",
       "      <td>134.0</td>\n",
       "    </tr>\n",
       "    <tr>\n",
       "      <th>490</th>\n",
       "      <td>(1, 1, 1, 1, 1, 0, 1, 0, 1, 0)</td>\n",
       "      <td>{(0, 0): 0, (0, 1): 0.0, (0, 2): 0.0, (0, 3): ...</td>\n",
       "      <td>True</td>\n",
       "      <td>617.0</td>\n",
       "      <td>137.0</td>\n",
       "    </tr>\n",
       "    <tr>\n",
       "      <th>492</th>\n",
       "      <td>(1, 1, 1, 1, 1, 0, 1, 1, 0, 0)</td>\n",
       "      <td>{(0, 0): 0, (0, 1): 1.0, (0, 2): 0.0, (0, 3): ...</td>\n",
       "      <td>True</td>\n",
       "      <td>626.0</td>\n",
       "      <td>146.0</td>\n",
       "    </tr>\n",
       "    <tr>\n",
       "      <th>494</th>\n",
       "      <td>(1, 1, 1, 1, 1, 0, 1, 1, 1, 0)</td>\n",
       "      <td>{(0, 0): 0, (0, 1): 0.0, (0, 2): 0.0, (0, 3): ...</td>\n",
       "      <td>True</td>\n",
       "      <td>629.0</td>\n",
       "      <td>149.0</td>\n",
       "    </tr>\n",
       "  </tbody>\n",
       "</table>\n",
       "<p>285 rows × 5 columns</p>\n",
       "</div>"
      ],
      "text/plain": [
       "                                  z  \\\n",
       "1    (1, 0, 0, 0, 0, 0, 0, 0, 0, 1)   \n",
       "2    (1, 0, 0, 0, 0, 0, 0, 0, 1, 0)   \n",
       "3    (1, 0, 0, 0, 0, 0, 0, 0, 1, 1)   \n",
       "4    (1, 0, 0, 0, 0, 0, 0, 1, 0, 0)   \n",
       "5    (1, 0, 0, 0, 0, 0, 0, 1, 0, 1)   \n",
       "..                              ...   \n",
       "486  (1, 1, 1, 1, 1, 0, 0, 1, 1, 0)   \n",
       "488  (1, 1, 1, 1, 1, 0, 1, 0, 0, 0)   \n",
       "490  (1, 1, 1, 1, 1, 0, 1, 0, 1, 0)   \n",
       "492  (1, 1, 1, 1, 1, 0, 1, 1, 0, 0)   \n",
       "494  (1, 1, 1, 1, 1, 0, 1, 1, 1, 0)   \n",
       "\n",
       "                                                 route  optimal   移動時間   残業時間  \n",
       "1    {(0, 0): 0, (0, 1): 0.0, (0, 2): 0.0, (0, 3): ...     True  366.0    0.0  \n",
       "2    {(0, 0): 0, (0, 1): 0.0, (0, 2): 0.0, (0, 3): ...     True  228.0    0.0  \n",
       "3    {(0, 0): 0, (0, 1): 0.0, (0, 2): 0.0, (0, 3): ...     True  585.0  105.0  \n",
       "4    {(0, 0): 0, (0, 1): 0.0, (0, 2): 0.0, (0, 3): ...     True  100.0    0.0  \n",
       "5    {(0, 0): 0, (0, 1): 0.0, (0, 2): 0.0, (0, 3): ...     True  430.0    0.0  \n",
       "..                                                 ...      ...    ...    ...  \n",
       "486  {(0, 0): 0, (0, 1): 1.0, (0, 2): 0.0, (0, 3): ...     True  558.0   78.0  \n",
       "488  {(0, 0): 0, (0, 1): 1.0, (0, 2): 0.0, (0, 3): ...     True  614.0  134.0  \n",
       "490  {(0, 0): 0, (0, 1): 0.0, (0, 2): 0.0, (0, 3): ...     True  617.0  137.0  \n",
       "492  {(0, 0): 0, (0, 1): 1.0, (0, 2): 0.0, (0, 3): ...     True  626.0  146.0  \n",
       "494  {(0, 0): 0, (0, 1): 0.0, (0, 2): 0.0, (0, 3): ...     True  629.0  149.0  \n",
       "\n",
       "[285 rows x 5 columns]"
      ]
     },
     "execution_count": 8,
     "metadata": {},
     "output_type": "execute_result"
    }
   ],
   "source": [
    "routes_df = enumerate_routes()\n",
    "routes_df"
   ]
  },
  {
   "cell_type": "code",
   "execution_count": 9,
   "metadata": {},
   "outputs": [],
   "source": [
    "def is_OK(requests):\n",
    "    weight = sum([w[r] for r in requests])\n",
    "    if weight > W:\n",
    "        return False\n",
    "    \n",
    "    best_route_idx = None\n",
    "    best_hours = sys.float_info.max\n",
    "    for route_idx, row in routes_df.iterrows():\n",
    "        all_request_on_route = all([row.z[k[r]] == 1 for r in requests])\n",
    "        if all_request_on_route and row.移動時間 < best_hours:\n",
    "            best_route_idx = route_idx\n",
    "            best_hours = row.移動時間\n",
    "    if best_route_idx is None:\n",
    "        return False\n",
    "    else:\n",
    "        return best_route_idx, best_hours"
   ]
  },
  {
   "cell_type": "code",
   "execution_count": 10,
   "metadata": {},
   "outputs": [],
   "source": [
    "def _enumerate_feasible_schedules(requests_cands, current_idx_set, idx_to_add, res):\n",
    "    idx_set_to_check = current_idx_set + [idx_to_add]\n",
    "    next_idx = idx_to_add + 1\n",
    "    is_next_idx_valid = next_idx < len(requests_cands)\n",
    "    requests = [requests_cands[i] for i in idx_set_to_check]\n",
    "    is_ok = is_OK(requests)\n",
    "\n",
    "    if is_ok:\n",
    "        best_route_idx, best_hour = is_ok\n",
    "        res.append(\n",
    "            {\n",
    "                \"requests\":[requests_cands[i] for i in idx_set_to_check],\n",
    "                \"route_idx\":best_route_idx,\n",
    "                \"hours\":best_hour\n",
    "            }\n",
    "        )\n",
    "        if is_next_idx_valid:\n",
    "            _enumerate_feasible_schedules(requests_cands, idx_set_to_check, next_idx, res)\n",
    "    if is_next_idx_valid:\n",
    "        _enumerate_feasible_schedules(requests_cands, current_idx_set, next_idx, res)"
   ]
  },
  {
   "cell_type": "code",
   "execution_count": 11,
   "metadata": {},
   "outputs": [],
   "source": [
    "def enumerate_feasible_schedules(d: int):\n",
    "    requests_cands = [r for r in R if d_0[r] <= d <= d_1[r]]\n",
    "    res = [\n",
    "        {\"requests\":[], \"route_idx\":0, \"hours\":0}\n",
    "    ]\n",
    "    _enumerate_feasible_schedules(requests_cands, [], 0, res)\n",
    "    feasible_schedules_df = pd.DataFrame(res)\n",
    "    feasible_schedules_df[\"overwork\"] = (feasible_schedules_df.hours - H_regular).clip(0)\n",
    "    feasible_schedules_df[\"requests_set\"] = feasible_schedules_df.requests.apply(set)\n",
    "\n",
    "    idx_cands = set(feasible_schedules_df.index)\n",
    "    dominated_idx_set = set()\n",
    "    for dominant_idx in feasible_schedules_df.index:\n",
    "        for checked_idx in feasible_schedules_df.index:\n",
    "            requests_strict_dominance = (\n",
    "                feasible_schedules_df.requests_set.loc[checked_idx] < feasible_schedules_df.requests_set.loc[dominant_idx]\n",
    "            )\n",
    "            overwork_weak_dominance = (\n",
    "                feasible_schedules_df.overwork.loc[checked_idx] >= feasible_schedules_df.overwork.loc[dominant_idx]\n",
    "            )\n",
    "            if requests_strict_dominance and overwork_weak_dominance:\n",
    "                dominated_idx_set.add(checked_idx)\n",
    "    nondominated_idx_set = idx_cands - dominated_idx_set\n",
    "    nondominated_feasible_schedules_df = feasible_schedules_df.loc[nondominated_idx_set, :]\n",
    "    return nondominated_feasible_schedules_df"
   ]
  },
  {
   "cell_type": "code",
   "execution_count": 18,
   "metadata": {},
   "outputs": [
    {
     "name": "stderr",
     "output_type": "stream",
     "text": [
      "/var/folders/f9/wtlgcx3x4k10tkcdwcls97_40000gn/T/ipykernel_60852/2795464558.py:44: FutureWarning: Passing a set as an indexer is deprecated and will raise in a future version. Use a list instead.\n",
      "/var/folders/f9/wtlgcx3x4k10tkcdwcls97_40000gn/T/ipykernel_60852/2795464558.py:44: FutureWarning: Passing a set as an indexer is deprecated and will raise in a future version. Use a list instead.\n",
      "/var/folders/f9/wtlgcx3x4k10tkcdwcls97_40000gn/T/ipykernel_60852/2795464558.py:44: FutureWarning: Passing a set as an indexer is deprecated and will raise in a future version. Use a list instead.\n",
      "/var/folders/f9/wtlgcx3x4k10tkcdwcls97_40000gn/T/ipykernel_60852/2795464558.py:44: FutureWarning: Passing a set as an indexer is deprecated and will raise in a future version. Use a list instead.\n",
      "/var/folders/f9/wtlgcx3x4k10tkcdwcls97_40000gn/T/ipykernel_60852/2795464558.py:44: FutureWarning: Passing a set as an indexer is deprecated and will raise in a future version. Use a list instead.\n",
      "/var/folders/f9/wtlgcx3x4k10tkcdwcls97_40000gn/T/ipykernel_60852/2795464558.py:44: FutureWarning: Passing a set as an indexer is deprecated and will raise in a future version. Use a list instead.\n"
     ]
    },
    {
     "ename": "KeyboardInterrupt",
     "evalue": "",
     "output_type": "error",
     "traceback": [
      "\u001b[0;31m---------------------------------------------------------------------------\u001b[0m",
      "\u001b[0;31mKeyboardInterrupt\u001b[0m                         Traceback (most recent call last)",
      "\u001b[1;32mセル13 を /Users/shota/project/math_opt/casestudy/chap5/prepare.ipynb\u001b[0m in \u001b[0;36m<cell line: 1>\u001b[0;34m()\u001b[0m\n\u001b[0;32m----> <a href='vscode-notebook-cell:/Users/shota/project/math_opt/casestudy/chap5/prepare.ipynb#ch0000015?line=0'>1</a>\u001b[0m _schedules \u001b[39m=\u001b[39m Parallel(n_jobs\u001b[39m=\u001b[39;49m\u001b[39m16\u001b[39;49m)([delayed(enumerate_feasible_schedules)(d) \u001b[39mfor\u001b[39;49;00m d \u001b[39min\u001b[39;49;00m D])\n\u001b[1;32m      <a href='vscode-notebook-cell:/Users/shota/project/math_opt/casestudy/chap5/prepare.ipynb#ch0000015?line=1'>2</a>\u001b[0m feasible_schedules \u001b[39m=\u001b[39m \u001b[39mdict\u001b[39m(\u001b[39mzip\u001b[39m(D, _schedules))\n",
      "File \u001b[0;32m~/opt/miniconda3/envs/mathopt/lib/python3.8/site-packages/joblib/parallel.py:1056\u001b[0m, in \u001b[0;36mParallel.__call__\u001b[0;34m(self, iterable)\u001b[0m\n\u001b[1;32m   1053\u001b[0m     \u001b[39mself\u001b[39m\u001b[39m.\u001b[39m_iterating \u001b[39m=\u001b[39m \u001b[39mFalse\u001b[39;00m\n\u001b[1;32m   1055\u001b[0m \u001b[39mwith\u001b[39;00m \u001b[39mself\u001b[39m\u001b[39m.\u001b[39m_backend\u001b[39m.\u001b[39mretrieval_context():\n\u001b[0;32m-> 1056\u001b[0m     \u001b[39mself\u001b[39;49m\u001b[39m.\u001b[39;49mretrieve()\n\u001b[1;32m   1057\u001b[0m \u001b[39m# Make sure that we get a last message telling us we are done\u001b[39;00m\n\u001b[1;32m   1058\u001b[0m elapsed_time \u001b[39m=\u001b[39m time\u001b[39m.\u001b[39mtime() \u001b[39m-\u001b[39m \u001b[39mself\u001b[39m\u001b[39m.\u001b[39m_start_time\n",
      "File \u001b[0;32m~/opt/miniconda3/envs/mathopt/lib/python3.8/site-packages/joblib/parallel.py:935\u001b[0m, in \u001b[0;36mParallel.retrieve\u001b[0;34m(self)\u001b[0m\n\u001b[1;32m    933\u001b[0m \u001b[39mtry\u001b[39;00m:\n\u001b[1;32m    934\u001b[0m     \u001b[39mif\u001b[39;00m \u001b[39mgetattr\u001b[39m(\u001b[39mself\u001b[39m\u001b[39m.\u001b[39m_backend, \u001b[39m'\u001b[39m\u001b[39msupports_timeout\u001b[39m\u001b[39m'\u001b[39m, \u001b[39mFalse\u001b[39;00m):\n\u001b[0;32m--> 935\u001b[0m         \u001b[39mself\u001b[39m\u001b[39m.\u001b[39m_output\u001b[39m.\u001b[39mextend(job\u001b[39m.\u001b[39;49mget(timeout\u001b[39m=\u001b[39;49m\u001b[39mself\u001b[39;49m\u001b[39m.\u001b[39;49mtimeout))\n\u001b[1;32m    936\u001b[0m     \u001b[39melse\u001b[39;00m:\n\u001b[1;32m    937\u001b[0m         \u001b[39mself\u001b[39m\u001b[39m.\u001b[39m_output\u001b[39m.\u001b[39mextend(job\u001b[39m.\u001b[39mget())\n",
      "File \u001b[0;32m~/opt/miniconda3/envs/mathopt/lib/python3.8/site-packages/joblib/_parallel_backends.py:542\u001b[0m, in \u001b[0;36mLokyBackend.wrap_future_result\u001b[0;34m(future, timeout)\u001b[0m\n\u001b[1;32m    539\u001b[0m \u001b[39m\"\"\"Wrapper for Future.result to implement the same behaviour as\u001b[39;00m\n\u001b[1;32m    540\u001b[0m \u001b[39mAsyncResults.get from multiprocessing.\"\"\"\u001b[39;00m\n\u001b[1;32m    541\u001b[0m \u001b[39mtry\u001b[39;00m:\n\u001b[0;32m--> 542\u001b[0m     \u001b[39mreturn\u001b[39;00m future\u001b[39m.\u001b[39;49mresult(timeout\u001b[39m=\u001b[39;49mtimeout)\n\u001b[1;32m    543\u001b[0m \u001b[39mexcept\u001b[39;00m CfTimeoutError \u001b[39mas\u001b[39;00m e:\n\u001b[1;32m    544\u001b[0m     \u001b[39mraise\u001b[39;00m \u001b[39mTimeoutError\u001b[39;00m \u001b[39mfrom\u001b[39;00m \u001b[39me\u001b[39;00m\n",
      "File \u001b[0;32m~/opt/miniconda3/envs/mathopt/lib/python3.8/concurrent/futures/_base.py:439\u001b[0m, in \u001b[0;36mFuture.result\u001b[0;34m(self, timeout)\u001b[0m\n\u001b[1;32m    436\u001b[0m \u001b[39melif\u001b[39;00m \u001b[39mself\u001b[39m\u001b[39m.\u001b[39m_state \u001b[39m==\u001b[39m FINISHED:\n\u001b[1;32m    437\u001b[0m     \u001b[39mreturn\u001b[39;00m \u001b[39mself\u001b[39m\u001b[39m.\u001b[39m__get_result()\n\u001b[0;32m--> 439\u001b[0m \u001b[39mself\u001b[39;49m\u001b[39m.\u001b[39;49m_condition\u001b[39m.\u001b[39;49mwait(timeout)\n\u001b[1;32m    441\u001b[0m \u001b[39mif\u001b[39;00m \u001b[39mself\u001b[39m\u001b[39m.\u001b[39m_state \u001b[39min\u001b[39;00m [CANCELLED, CANCELLED_AND_NOTIFIED]:\n\u001b[1;32m    442\u001b[0m     \u001b[39mraise\u001b[39;00m CancelledError()\n",
      "File \u001b[0;32m~/opt/miniconda3/envs/mathopt/lib/python3.8/threading.py:302\u001b[0m, in \u001b[0;36mCondition.wait\u001b[0;34m(self, timeout)\u001b[0m\n\u001b[1;32m    300\u001b[0m \u001b[39mtry\u001b[39;00m:    \u001b[39m# restore state no matter what (e.g., KeyboardInterrupt)\u001b[39;00m\n\u001b[1;32m    301\u001b[0m     \u001b[39mif\u001b[39;00m timeout \u001b[39mis\u001b[39;00m \u001b[39mNone\u001b[39;00m:\n\u001b[0;32m--> 302\u001b[0m         waiter\u001b[39m.\u001b[39;49macquire()\n\u001b[1;32m    303\u001b[0m         gotit \u001b[39m=\u001b[39m \u001b[39mTrue\u001b[39;00m\n\u001b[1;32m    304\u001b[0m     \u001b[39melse\u001b[39;00m:\n",
      "\u001b[0;31mKeyboardInterrupt\u001b[0m: "
     ]
    }
   ],
   "source": [
    "_schedules = Parallel(n_jobs=16)([delayed(enumerate_feasible_schedules)(d) for d in D])\n",
    "feasible_schedules = dict(zip(D, _schedules))"
   ]
  },
  {
   "cell_type": "code",
   "execution_count": null,
   "metadata": {},
   "outputs": [],
   "source": [
    "print(\"1日の最大スケジュール候補数:\", max([len(df) for df in feasible_schedules.values()]))\n",
    "print(\"スケジュール候補数の合計:\", sum([len(df) for df in feasible_schedules.values()]))"
   ]
  },
  {
   "cell_type": "code",
   "execution_count": null,
   "metadata": {},
   "outputs": [],
   "source": []
  }
 ],
 "metadata": {
  "kernelspec": {
   "display_name": "Python 3.8.13 ('mathopt')",
   "language": "python",
   "name": "python3"
  },
  "language_info": {
   "codemirror_mode": {
    "name": "ipython",
    "version": 3
   },
   "file_extension": ".py",
   "mimetype": "text/x-python",
   "name": "python",
   "nbconvert_exporter": "python",
   "pygments_lexer": "ipython3",
   "version": "3.8.13"
  },
  "orig_nbformat": 4,
  "vscode": {
   "interpreter": {
    "hash": "b1025def79bccd7585b3d55abad72a3b7a06c47cf278d40bc16d324e995c7f42"
   }
  }
 },
 "nbformat": 4,
 "nbformat_minor": 2
}
