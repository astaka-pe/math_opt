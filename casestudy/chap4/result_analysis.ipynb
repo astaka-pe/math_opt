{
 "cells": [
  {
   "cell_type": "code",
   "execution_count": 2,
   "metadata": {},
   "outputs": [],
   "source": [
    "import matplotlib.pyplot as plt\n",
    "import pandas as pd\n",
    "import seaborn as sns"
   ]
  },
  {
   "cell_type": "markdown",
   "metadata": {},
   "source": [
    "# 会員個別送付モデル"
   ]
  },
  {
   "cell_type": "code",
   "execution_count": 4,
   "metadata": {},
   "outputs": [
    {
     "data": {
      "text/html": [
       "<div>\n",
       "<style scoped>\n",
       "    .dataframe tbody tr th:only-of-type {\n",
       "        vertical-align: middle;\n",
       "    }\n",
       "\n",
       "    .dataframe tbody tr th {\n",
       "        vertical-align: top;\n",
       "    }\n",
       "\n",
       "    .dataframe thead th {\n",
       "        text-align: right;\n",
       "    }\n",
       "</style>\n",
       "<table border=\"1\" class=\"dataframe\">\n",
       "  <thead>\n",
       "    <tr style=\"text-align: right;\">\n",
       "      <th></th>\n",
       "      <th>Unnamed: 0</th>\n",
       "      <th>send_dm1</th>\n",
       "      <th>send_dm2</th>\n",
       "      <th>send_dm3</th>\n",
       "    </tr>\n",
       "  </thead>\n",
       "  <tbody>\n",
       "    <tr>\n",
       "      <th>0</th>\n",
       "      <td>0</td>\n",
       "      <td>0.0</td>\n",
       "      <td>1.0</td>\n",
       "      <td>0.0</td>\n",
       "    </tr>\n",
       "    <tr>\n",
       "      <th>1</th>\n",
       "      <td>1</td>\n",
       "      <td>0.0</td>\n",
       "      <td>1.0</td>\n",
       "      <td>0.0</td>\n",
       "    </tr>\n",
       "    <tr>\n",
       "      <th>2</th>\n",
       "      <td>2</td>\n",
       "      <td>0.0</td>\n",
       "      <td>1.0</td>\n",
       "      <td>0.0</td>\n",
       "    </tr>\n",
       "    <tr>\n",
       "      <th>3</th>\n",
       "      <td>3</td>\n",
       "      <td>0.0</td>\n",
       "      <td>1.0</td>\n",
       "      <td>0.0</td>\n",
       "    </tr>\n",
       "    <tr>\n",
       "      <th>4</th>\n",
       "      <td>4</td>\n",
       "      <td>0.0</td>\n",
       "      <td>1.0</td>\n",
       "      <td>0.0</td>\n",
       "    </tr>\n",
       "  </tbody>\n",
       "</table>\n",
       "</div>"
      ],
      "text/plain": [
       "   Unnamed: 0  send_dm1  send_dm2  send_dm3\n",
       "0           0       0.0       1.0       0.0\n",
       "1           1       0.0       1.0       0.0\n",
       "2           2       0.0       1.0       0.0\n",
       "3           3       0.0       1.0       0.0\n",
       "4           4       0.0       1.0       0.0"
      ]
     },
     "execution_count": 4,
     "metadata": {},
     "output_type": "execute_result"
    }
   ],
   "source": [
    "cust_df = pd.read_csv(\"data/customers.csv\")\n",
    "prob_df = pd.read_csv(\"data/visit_probability.csv\")\n",
    "send_dm_df = pd.read_csv(\"send_dm1.csv\")\n",
    "send_dm_df.head()"
   ]
  },
  {
   "cell_type": "code",
   "execution_count": 7,
   "metadata": {},
   "outputs": [
    {
     "data": {
      "text/html": [
       "<div>\n",
       "<style scoped>\n",
       "    .dataframe tbody tr th:only-of-type {\n",
       "        vertical-align: middle;\n",
       "    }\n",
       "\n",
       "    .dataframe tbody tr th {\n",
       "        vertical-align: top;\n",
       "    }\n",
       "\n",
       "    .dataframe thead th {\n",
       "        text-align: right;\n",
       "    }\n",
       "</style>\n",
       "<table border=\"1\" class=\"dataframe\">\n",
       "  <thead>\n",
       "    <tr style=\"text-align: right;\">\n",
       "      <th></th>\n",
       "      <th>customer_id</th>\n",
       "      <th>age_cat</th>\n",
       "      <th>freq_cat</th>\n",
       "      <th>send_dm1</th>\n",
       "      <th>send_dm2</th>\n",
       "      <th>send_dm3</th>\n",
       "    </tr>\n",
       "  </thead>\n",
       "  <tbody>\n",
       "    <tr>\n",
       "      <th>0</th>\n",
       "      <td>1</td>\n",
       "      <td>age20~34</td>\n",
       "      <td>freq2</td>\n",
       "      <td>0.0</td>\n",
       "      <td>1.0</td>\n",
       "      <td>0.0</td>\n",
       "    </tr>\n",
       "    <tr>\n",
       "      <th>1</th>\n",
       "      <td>2</td>\n",
       "      <td>age35~49</td>\n",
       "      <td>freq0</td>\n",
       "      <td>0.0</td>\n",
       "      <td>1.0</td>\n",
       "      <td>0.0</td>\n",
       "    </tr>\n",
       "    <tr>\n",
       "      <th>2</th>\n",
       "      <td>3</td>\n",
       "      <td>age35~49</td>\n",
       "      <td>freq0</td>\n",
       "      <td>0.0</td>\n",
       "      <td>1.0</td>\n",
       "      <td>0.0</td>\n",
       "    </tr>\n",
       "    <tr>\n",
       "      <th>3</th>\n",
       "      <td>4</td>\n",
       "      <td>age~19</td>\n",
       "      <td>freq0</td>\n",
       "      <td>0.0</td>\n",
       "      <td>1.0</td>\n",
       "      <td>0.0</td>\n",
       "    </tr>\n",
       "    <tr>\n",
       "      <th>4</th>\n",
       "      <td>5</td>\n",
       "      <td>age35~49</td>\n",
       "      <td>freq0</td>\n",
       "      <td>0.0</td>\n",
       "      <td>1.0</td>\n",
       "      <td>0.0</td>\n",
       "    </tr>\n",
       "  </tbody>\n",
       "</table>\n",
       "</div>"
      ],
      "text/plain": [
       "   customer_id   age_cat freq_cat  send_dm1  send_dm2  send_dm3\n",
       "0            1  age20~34    freq2       0.0       1.0       0.0\n",
       "1            2  age35~49    freq0       0.0       1.0       0.0\n",
       "2            3  age35~49    freq0       0.0       1.0       0.0\n",
       "3            4    age~19    freq0       0.0       1.0       0.0\n",
       "4            5  age35~49    freq0       0.0       1.0       0.0"
      ]
     },
     "execution_count": 7,
     "metadata": {},
     "output_type": "execute_result"
    }
   ],
   "source": [
    "cust_send_df = pd.concat([cust_df[[\"customer_id\", \"age_cat\", \"freq_cat\"]], send_dm_df.iloc[:, 1:]], axis=1)\n",
    "cust_send_df.head()"
   ]
  },
  {
   "cell_type": "code",
   "execution_count": 10,
   "metadata": {},
   "outputs": [
    {
     "data": {
      "image/png": "[encoded data removed]",
      "text/plain": [
       "<Figure size 1440x216 with 6 Axes>"
      ]
     },
     "metadata": {
      "needs_background": "light"
     },
     "output_type": "display_data"
    }
   ],
   "source": [
    "ax = {}\n",
    "fig, (ax[0], ax[1], ax[2]) = plt.subplots(1, 3, figsize=(20, 3))\n",
    "for i, ptn in enumerate([\"send_dm1\", \"send_dm2\", \"send_dm3\"]):\n",
    "    cust_send_pivot_df = pd.pivot_table(data=cust_send_df, values=ptn, columns=\"freq_cat\", index=\"age_cat\")\n",
    "    cust_send_pivot_df = cust_send_pivot_df.reindex([\"age~19\", \"age20~34\", \"age35~49\", \"age50~\"])\n",
    "    sns.heatmap(cust_send_pivot_df, vmin=0, vmax=1, annot=True, fmt=\".1%\", cmap=\"Blues\", ax=ax[i])\n",
    "    ax[i].set_title(f\"{ptn} rate\")\n",
    "plt.show()"
   ]
  },
  {
   "cell_type": "code",
   "execution_count": 16,
   "metadata": {},
   "outputs": [
    {
     "data": {
      "image/png": "[encoded data removed]",
      "text/plain": [
       "<Figure size 1440x216 with 6 Axes>"
      ]
     },
     "metadata": {
      "needs_background": "light"
     },
     "output_type": "display_data"
    }
   ],
   "source": [
    "ax = {}\n",
    "fig, (ax[0], ax[1], ax[2]) = plt.subplots(1, 3, figsize=(20, 3))\n",
    "for i, ptn in enumerate([\"send_dm1\", \"send_dm2\", \"send_dm3\"]):\n",
    "    cust_send_pivot_df = pd.pivot_table(data=cust_send_df, values=ptn, columns=\"freq_cat\", index=\"age_cat\", aggfunc=\"sum\")\n",
    "    cust_send_pivot_df = cust_send_pivot_df.reindex([\"age~19\", \"age20~34\", \"age35~49\", \"age50~\"])\n",
    "    sns.heatmap(cust_send_pivot_df, vmax=800, annot=True, fmt=\".1f\", cmap=\"Blues\", ax=ax[i])\n",
    "    ax[i].set_title(f\"{ptn} num\")\n",
    "plt.show()"
   ]
  },
  {
   "cell_type": "markdown",
   "metadata": {},
   "source": [
    "# セグメント送付モデル"
   ]
  },
  {
   "cell_type": "code",
   "execution_count": 17,
   "metadata": {},
   "outputs": [
    {
     "data": {
      "text/html": [
       "<div>\n",
       "<style scoped>\n",
       "    .dataframe tbody tr th:only-of-type {\n",
       "        vertical-align: middle;\n",
       "    }\n",
       "\n",
       "    .dataframe tbody tr th {\n",
       "        vertical-align: top;\n",
       "    }\n",
       "\n",
       "    .dataframe thead th {\n",
       "        text-align: right;\n",
       "    }\n",
       "</style>\n",
       "<table border=\"1\" class=\"dataframe\">\n",
       "  <thead>\n",
       "    <tr style=\"text-align: right;\">\n",
       "      <th></th>\n",
       "      <th>Unnamed: 0</th>\n",
       "      <th>send_dm1</th>\n",
       "      <th>send_dm2</th>\n",
       "      <th>send_dm3</th>\n",
       "    </tr>\n",
       "  </thead>\n",
       "  <tbody>\n",
       "    <tr>\n",
       "      <th>0</th>\n",
       "      <td>0</td>\n",
       "      <td>0.1</td>\n",
       "      <td>0.8</td>\n",
       "      <td>0.1</td>\n",
       "    </tr>\n",
       "    <tr>\n",
       "      <th>1</th>\n",
       "      <td>1</td>\n",
       "      <td>0.8</td>\n",
       "      <td>0.1</td>\n",
       "      <td>0.1</td>\n",
       "    </tr>\n",
       "    <tr>\n",
       "      <th>2</th>\n",
       "      <td>2</td>\n",
       "      <td>0.8</td>\n",
       "      <td>0.1</td>\n",
       "      <td>0.1</td>\n",
       "    </tr>\n",
       "    <tr>\n",
       "      <th>3</th>\n",
       "      <td>3</td>\n",
       "      <td>0.8</td>\n",
       "      <td>0.1</td>\n",
       "      <td>0.1</td>\n",
       "    </tr>\n",
       "    <tr>\n",
       "      <th>4</th>\n",
       "      <td>4</td>\n",
       "      <td>0.8</td>\n",
       "      <td>0.1</td>\n",
       "      <td>0.1</td>\n",
       "    </tr>\n",
       "  </tbody>\n",
       "</table>\n",
       "</div>"
      ],
      "text/plain": [
       "   Unnamed: 0  send_dm1  send_dm2  send_dm3\n",
       "0           0       0.1       0.8       0.1\n",
       "1           1       0.8       0.1       0.1\n",
       "2           2       0.8       0.1       0.1\n",
       "3           3       0.8       0.1       0.1\n",
       "4           4       0.8       0.1       0.1"
      ]
     },
     "execution_count": 17,
     "metadata": {},
     "output_type": "execute_result"
    }
   ],
   "source": [
    "send_dm_df = pd.read_csv(\"send_dm2.csv\")\n",
    "send_dm_df.head()"
   ]
  },
  {
   "cell_type": "code",
   "execution_count": 18,
   "metadata": {},
   "outputs": [
    {
     "data": {
      "text/html": [
       "<div>\n",
       "<style scoped>\n",
       "    .dataframe tbody tr th:only-of-type {\n",
       "        vertical-align: middle;\n",
       "    }\n",
       "\n",
       "    .dataframe tbody tr th {\n",
       "        vertical-align: top;\n",
       "    }\n",
       "\n",
       "    .dataframe thead th {\n",
       "        text-align: right;\n",
       "    }\n",
       "</style>\n",
       "<table border=\"1\" class=\"dataframe\">\n",
       "  <thead>\n",
       "    <tr style=\"text-align: right;\">\n",
       "      <th></th>\n",
       "      <th>customer_id</th>\n",
       "      <th>age_cat</th>\n",
       "      <th>freq_cat</th>\n",
       "      <th>send_dm1</th>\n",
       "      <th>send_dm2</th>\n",
       "      <th>send_dm3</th>\n",
       "    </tr>\n",
       "  </thead>\n",
       "  <tbody>\n",
       "    <tr>\n",
       "      <th>0</th>\n",
       "      <td>1</td>\n",
       "      <td>age20~34</td>\n",
       "      <td>freq2</td>\n",
       "      <td>0.1</td>\n",
       "      <td>0.8</td>\n",
       "      <td>0.1</td>\n",
       "    </tr>\n",
       "    <tr>\n",
       "      <th>1</th>\n",
       "      <td>2</td>\n",
       "      <td>age35~49</td>\n",
       "      <td>freq0</td>\n",
       "      <td>0.8</td>\n",
       "      <td>0.1</td>\n",
       "      <td>0.1</td>\n",
       "    </tr>\n",
       "    <tr>\n",
       "      <th>2</th>\n",
       "      <td>3</td>\n",
       "      <td>age35~49</td>\n",
       "      <td>freq0</td>\n",
       "      <td>0.8</td>\n",
       "      <td>0.1</td>\n",
       "      <td>0.1</td>\n",
       "    </tr>\n",
       "    <tr>\n",
       "      <th>3</th>\n",
       "      <td>4</td>\n",
       "      <td>age~19</td>\n",
       "      <td>freq0</td>\n",
       "      <td>0.8</td>\n",
       "      <td>0.1</td>\n",
       "      <td>0.1</td>\n",
       "    </tr>\n",
       "    <tr>\n",
       "      <th>4</th>\n",
       "      <td>5</td>\n",
       "      <td>age35~49</td>\n",
       "      <td>freq0</td>\n",
       "      <td>0.8</td>\n",
       "      <td>0.1</td>\n",
       "      <td>0.1</td>\n",
       "    </tr>\n",
       "  </tbody>\n",
       "</table>\n",
       "</div>"
      ],
      "text/plain": [
       "   customer_id   age_cat freq_cat  send_dm1  send_dm2  send_dm3\n",
       "0            1  age20~34    freq2       0.1       0.8       0.1\n",
       "1            2  age35~49    freq0       0.8       0.1       0.1\n",
       "2            3  age35~49    freq0       0.8       0.1       0.1\n",
       "3            4    age~19    freq0       0.8       0.1       0.1\n",
       "4            5  age35~49    freq0       0.8       0.1       0.1"
      ]
     },
     "execution_count": 18,
     "metadata": {},
     "output_type": "execute_result"
    }
   ],
   "source": [
    "seg_send_df = pd.concat([cust_df[[\"customer_id\", \"age_cat\", \"freq_cat\"]], send_dm_df.iloc[:, 1:]], axis=1)\n",
    "seg_send_df.head()"
   ]
  },
  {
   "cell_type": "code",
   "execution_count": 19,
   "metadata": {},
   "outputs": [
    {
     "data": {
      "image/png": "[encoded data removed]",
      "text/plain": [
       "<Figure size 1440x216 with 6 Axes>"
      ]
     },
     "metadata": {
      "needs_background": "light"
     },
     "output_type": "display_data"
    }
   ],
   "source": [
    "ax = {}\n",
    "fig, (ax[0], ax[1], ax[2]) = plt.subplots(1, 3, figsize=(20, 3))\n",
    "for i, ptn in enumerate([\"send_dm1\", \"send_dm2\", \"send_dm3\"]):\n",
    "    seg_send_pivot_df = pd.pivot_table(data=cust_send_df, values=ptn, columns=\"freq_cat\", index=\"age_cat\")\n",
    "    seg_send_pivot_df = seg_send_pivot_df.reindex([\"age~19\", \"age20~34\", \"age35~49\", \"age50~\"])\n",
    "    sns.heatmap(seg_send_pivot_df, vmin=0, vmax=1, annot=True, fmt=\".1%\", cmap=\"Blues\", ax=ax[i])\n",
    "    ax[i].set_title(f\"{ptn} rate\")\n",
    "plt.show()"
   ]
  },
  {
   "cell_type": "markdown",
   "metadata": {},
   "source": [
    "# 送付率下限値最大化モデル"
   ]
  },
  {
   "cell_type": "code",
   "execution_count": 24,
   "metadata": {},
   "outputs": [
    {
     "data": {
      "text/html": [
       "<div>\n",
       "<style scoped>\n",
       "    .dataframe tbody tr th:only-of-type {\n",
       "        vertical-align: middle;\n",
       "    }\n",
       "\n",
       "    .dataframe tbody tr th {\n",
       "        vertical-align: top;\n",
       "    }\n",
       "\n",
       "    .dataframe thead th {\n",
       "        text-align: right;\n",
       "    }\n",
       "</style>\n",
       "<table border=\"1\" class=\"dataframe\">\n",
       "  <thead>\n",
       "    <tr style=\"text-align: right;\">\n",
       "      <th></th>\n",
       "      <th>Unnamed: 0</th>\n",
       "      <th>send_dm1</th>\n",
       "      <th>send_dm2</th>\n",
       "      <th>send_dm3</th>\n",
       "    </tr>\n",
       "  </thead>\n",
       "  <tbody>\n",
       "    <tr>\n",
       "      <th>0</th>\n",
       "      <td>0</td>\n",
       "      <td>0.737481</td>\n",
       "      <td>0.131259</td>\n",
       "      <td>0.131259</td>\n",
       "    </tr>\n",
       "    <tr>\n",
       "      <th>1</th>\n",
       "      <td>1</td>\n",
       "      <td>0.737481</td>\n",
       "      <td>0.131259</td>\n",
       "      <td>0.131259</td>\n",
       "    </tr>\n",
       "    <tr>\n",
       "      <th>2</th>\n",
       "      <td>2</td>\n",
       "      <td>0.737481</td>\n",
       "      <td>0.131259</td>\n",
       "      <td>0.131259</td>\n",
       "    </tr>\n",
       "    <tr>\n",
       "      <th>3</th>\n",
       "      <td>3</td>\n",
       "      <td>0.737481</td>\n",
       "      <td>0.131259</td>\n",
       "      <td>0.131259</td>\n",
       "    </tr>\n",
       "    <tr>\n",
       "      <th>4</th>\n",
       "      <td>4</td>\n",
       "      <td>0.737481</td>\n",
       "      <td>0.131259</td>\n",
       "      <td>0.131259</td>\n",
       "    </tr>\n",
       "  </tbody>\n",
       "</table>\n",
       "</div>"
      ],
      "text/plain": [
       "   Unnamed: 0  send_dm1  send_dm2  send_dm3\n",
       "0           0  0.737481  0.131259  0.131259\n",
       "1           1  0.737481  0.131259  0.131259\n",
       "2           2  0.737481  0.131259  0.131259\n",
       "3           3  0.737481  0.131259  0.131259\n",
       "4           4  0.737481  0.131259  0.131259"
      ]
     },
     "execution_count": 24,
     "metadata": {},
     "output_type": "execute_result"
    }
   ],
   "source": [
    "send_dm_df = pd.read_csv(\"send_dm3.csv\")\n",
    "send_dm_df.head()"
   ]
  },
  {
   "cell_type": "code",
   "execution_count": 25,
   "metadata": {},
   "outputs": [
    {
     "data": {
      "text/html": [
       "<div>\n",
       "<style scoped>\n",
       "    .dataframe tbody tr th:only-of-type {\n",
       "        vertical-align: middle;\n",
       "    }\n",
       "\n",
       "    .dataframe tbody tr th {\n",
       "        vertical-align: top;\n",
       "    }\n",
       "\n",
       "    .dataframe thead th {\n",
       "        text-align: right;\n",
       "    }\n",
       "</style>\n",
       "<table border=\"1\" class=\"dataframe\">\n",
       "  <thead>\n",
       "    <tr style=\"text-align: right;\">\n",
       "      <th></th>\n",
       "      <th>segment_id</th>\n",
       "      <th>age_cat</th>\n",
       "      <th>freq_cat</th>\n",
       "      <th>send_dm1</th>\n",
       "      <th>send_dm2</th>\n",
       "      <th>send_dm3</th>\n",
       "    </tr>\n",
       "  </thead>\n",
       "  <tbody>\n",
       "    <tr>\n",
       "      <th>0</th>\n",
       "      <td>1</td>\n",
       "      <td>age~19</td>\n",
       "      <td>freq0</td>\n",
       "      <td>0.737481</td>\n",
       "      <td>0.131259</td>\n",
       "      <td>0.131259</td>\n",
       "    </tr>\n",
       "    <tr>\n",
       "      <th>1</th>\n",
       "      <td>2</td>\n",
       "      <td>age~19</td>\n",
       "      <td>freq1</td>\n",
       "      <td>0.737481</td>\n",
       "      <td>0.131259</td>\n",
       "      <td>0.131259</td>\n",
       "    </tr>\n",
       "    <tr>\n",
       "      <th>2</th>\n",
       "      <td>3</td>\n",
       "      <td>age~19</td>\n",
       "      <td>freq2</td>\n",
       "      <td>0.737481</td>\n",
       "      <td>0.131259</td>\n",
       "      <td>0.131259</td>\n",
       "    </tr>\n",
       "    <tr>\n",
       "      <th>3</th>\n",
       "      <td>4</td>\n",
       "      <td>age~19</td>\n",
       "      <td>freq3~</td>\n",
       "      <td>0.737481</td>\n",
       "      <td>0.131259</td>\n",
       "      <td>0.131259</td>\n",
       "    </tr>\n",
       "    <tr>\n",
       "      <th>4</th>\n",
       "      <td>5</td>\n",
       "      <td>age20~34</td>\n",
       "      <td>freq0</td>\n",
       "      <td>0.737481</td>\n",
       "      <td>0.131259</td>\n",
       "      <td>0.131259</td>\n",
       "    </tr>\n",
       "  </tbody>\n",
       "</table>\n",
       "</div>"
      ],
      "text/plain": [
       "   segment_id   age_cat freq_cat  send_dm1  send_dm2  send_dm3\n",
       "0           1    age~19    freq0  0.737481  0.131259  0.131259\n",
       "1           2    age~19    freq1  0.737481  0.131259  0.131259\n",
       "2           3    age~19    freq2  0.737481  0.131259  0.131259\n",
       "3           4    age~19   freq3~  0.737481  0.131259  0.131259\n",
       "4           5  age20~34    freq0  0.737481  0.131259  0.131259"
      ]
     },
     "execution_count": 25,
     "metadata": {},
     "output_type": "execute_result"
    }
   ],
   "source": [
    "minmax_send_df = pd.concat([prob_df[[\"segment_id\", \"age_cat\", \"freq_cat\"]], send_dm_df.iloc[:, 1:]], axis=1)\n",
    "minmax_send_df.head()"
   ]
  },
  {
   "cell_type": "code",
   "execution_count": 26,
   "metadata": {},
   "outputs": [
    {
     "data": {
      "image/png": "[encoded data removed]",
      "text/plain": [
       "<Figure size 1440x216 with 6 Axes>"
      ]
     },
     "metadata": {
      "needs_background": "light"
     },
     "output_type": "display_data"
    }
   ],
   "source": [
    "ax = {}\n",
    "fig, (ax[0], ax[1], ax[2]) = plt.subplots(1, 3, figsize=(20, 3))\n",
    "for i, ptn in enumerate([\"send_dm1\", \"send_dm2\", \"send_dm3\"]):\n",
    "    minmax_send_pivot_df = pd.pivot_table(data=minmax_send_df, values=ptn, columns=\"freq_cat\", index=\"age_cat\")\n",
    "    minmax_send_pivot_df = minmax_send_pivot_df.reindex([\"age~19\", \"age20~34\", \"age35~49\", \"age50~\"])\n",
    "    sns.heatmap(minmax_send_pivot_df, vmin=0, vmax=1, annot=True, fmt=\".1%\", cmap=\"Blues\", ax=ax[i])\n",
    "    ax[i].set_title(f\"{ptn} rate\")\n",
    "plt.show()"
   ]
  },
  {
   "cell_type": "markdown",
   "metadata": {},
   "source": [
    "# 投資対効果の評価"
   ]
  },
  {
   "cell_type": "code",
   "execution_count": 27,
   "metadata": {},
   "outputs": [],
   "source": [
    "import json\n",
    "with open(\"model4.json\", mode=\"r\") as f:\n",
    "    result = json.load(f)"
   ]
  },
  {
   "cell_type": "code",
   "execution_count": 29,
   "metadata": {},
   "outputs": [
    {
     "data": {
      "image/png": "[encoded data removed]",
      "text/plain": [
       "<Figure size 432x288 with 2 Axes>"
      ]
     },
     "metadata": {
      "needs_background": "light"
     },
     "output_type": "display_data"
    }
   ],
   "source": [
    "import matplotlib.ticker as ticker\n",
    "\n",
    "fig, ax1 = plt.subplots()\n",
    "ax2 = ax1.twinx()\n",
    "ax1.scatter(result[\"cost_list\"], result[\"inc_action_list\"], marker=\"x\", label=\"Incremental visitor\")\n",
    "ax2.scatter(result[\"cost_list\"], result[\"cpa_list\"], label=\"CPA\")\n",
    "ax1.set_xlabel(\"Cost\")\n",
    "ax1.set_ylabel(\"Incremental visitor\")\n",
    "ax2.set_ylabel(\"CPA\")\n",
    "reg1, label1 = ax1.get_legend_handles_labels()\n",
    "reg2, label2 = ax2.get_legend_handles_labels()\n",
    "ax2.legend(reg1+reg2, label1+label2, loc=\"upper center\")\n",
    "plt.show()"
   ]
  },
  {
   "cell_type": "code",
   "execution_count": null,
   "metadata": {},
   "outputs": [],
   "source": []
  }
 ],
 "metadata": {
  "kernelspec": {
   "display_name": "Python 3.8.13 ('mathopt')",
   "language": "python",
   "name": "python3"
  },
  "language_info": {
   "codemirror_mode": {
    "name": "ipython",
    "version": 3
   },
   "file_extension": ".py",
   "mimetype": "text/x-python",
   "name": "python",
   "nbconvert_exporter": "python",
   "pygments_lexer": "ipython3",
   "version": "3.8.13"
  },
  "orig_nbformat": 4,
  "vscode": {
   "interpreter": {
    "hash": "b1025def79bccd7585b3d55abad72a3b7a06c47cf278d40bc16d324e995c7f42"
   }
  }
 },
 "nbformat": 4,
 "nbformat_minor": 2
}
